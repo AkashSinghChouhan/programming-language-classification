{
 "cells": [
  {
   "cell_type": "markdown",
   "id": "43421eca",
   "metadata": {},
   "source": [
    "# Classification of programming languages\n",
    "*- Akash Singh Chouhan*"
   ]
  },
  {
   "cell_type": "markdown",
   "id": "f2e74329",
   "metadata": {},
   "source": [
    "## Abstract\n",
    "The objective of this notebook is to build a classification model which can predict the programming language given a code snippet as the input. For this purpose, three different algorithms will be used to build three different models and the model with highest accuracy on the test data would be considered as the winner. The three algorithms selected for this task are - *Random Forest Classifier* , *Logistic Regression Classifier*, and *Support Vector Machine*. "
   ]
  },
  {
   "cell_type": "markdown",
   "id": "bda263ef",
   "metadata": {},
   "source": [
    "### Import all the required libraries\n",
    "Please make sure that the following libraries are installed before running this notebook - *pandas*, *numpy*, *scikit-learn* and *matplotlib*."
   ]
  },
  {
   "cell_type": "code",
   "execution_count": 1,
   "id": "0f530030",
   "metadata": {},
   "outputs": [],
   "source": [
    "import pandas as pd\n",
    "import numpy as np\n",
    "from collections import Counter\n",
    "import matplotlib.pyplot as plt\n",
    "\n",
    "\n",
    "from sklearn.model_selection import GridSearchCV\n",
    "from sklearn.ensemble import RandomForestClassifier\n",
    "from sklearn.linear_model import LogisticRegression\n",
    "from sklearn.svm import SVC\n",
    "from sklearn.preprocessing import StandardScaler\n",
    "from sklearn.preprocessing import MinMaxScaler\n",
    "\n",
    "\n",
    "from sklearn.feature_extraction.text import TfidfVectorizer\n",
    "from sklearn.preprocessing import FunctionTransformer\n",
    "from sklearn.model_selection import train_test_split\n",
    "from sklearn.pipeline import Pipeline\n",
    "from sklearn.preprocessing import StandardScaler\n",
    "from sklearn.pipeline import make_pipeline\n",
    "from sklearn.metrics import precision_recall_fscore_support as metrics_data"
   ]
  },
  {
   "cell_type": "markdown",
   "id": "835e9f0d",
   "metadata": {},
   "source": [
    "## Read the data"
   ]
  },
  {
   "cell_type": "code",
   "execution_count": 2,
   "id": "3288ab97",
   "metadata": {},
   "outputs": [
    {
     "data": {
      "text/html": [
       "<div>\n",
       "<style scoped>\n",
       "    .dataframe tbody tr th:only-of-type {\n",
       "        vertical-align: middle;\n",
       "    }\n",
       "\n",
       "    .dataframe tbody tr th {\n",
       "        vertical-align: top;\n",
       "    }\n",
       "\n",
       "    .dataframe thead th {\n",
       "        text-align: right;\n",
       "    }\n",
       "</style>\n",
       "<table border=\"1\" class=\"dataframe\">\n",
       "  <thead>\n",
       "    <tr style=\"text-align: right;\">\n",
       "      <th></th>\n",
       "      <th>language</th>\n",
       "      <th>proj_id</th>\n",
       "      <th>file_id</th>\n",
       "      <th>file_body</th>\n",
       "    </tr>\n",
       "  </thead>\n",
       "  <tbody>\n",
       "    <tr>\n",
       "      <th>0</th>\n",
       "      <td>JavaScript</td>\n",
       "      <td>10001</td>\n",
       "      <td>100001</td>\n",
       "      <td>// Functions as values of a variable\\nvar cube...</td>\n",
       "    </tr>\n",
       "    <tr>\n",
       "      <th>1</th>\n",
       "      <td>JavaScript</td>\n",
       "      <td>10001</td>\n",
       "      <td>100002</td>\n",
       "      <td>// Functions as values of a variable\\nvar cube...</td>\n",
       "    </tr>\n",
       "    <tr>\n",
       "      <th>2</th>\n",
       "      <td>JavaScript</td>\n",
       "      <td>10002</td>\n",
       "      <td>100003</td>\n",
       "      <td>function median(ary) {\\n    if (ary.length == ...</td>\n",
       "    </tr>\n",
       "    <tr>\n",
       "      <th>3</th>\n",
       "      <td>JavaScript</td>\n",
       "      <td>10002</td>\n",
       "      <td>100004</td>\n",
       "      <td>[\\n  null,\\n  4,\\n  3.5,\\n  2.1\\n]\\n</td>\n",
       "    </tr>\n",
       "    <tr>\n",
       "      <th>4</th>\n",
       "      <td>JavaScript</td>\n",
       "      <td>10002</td>\n",
       "      <td>100005</td>\n",
       "      <td>(() =&gt; {\\n    'use strict';\\n\\n    // median :...</td>\n",
       "    </tr>\n",
       "  </tbody>\n",
       "</table>\n",
       "</div>"
      ],
      "text/plain": [
       "     language  proj_id  file_id  \\\n",
       "0  JavaScript    10001   100001   \n",
       "1  JavaScript    10001   100002   \n",
       "2  JavaScript    10002   100003   \n",
       "3  JavaScript    10002   100004   \n",
       "4  JavaScript    10002   100005   \n",
       "\n",
       "                                           file_body  \n",
       "0  // Functions as values of a variable\\nvar cube...  \n",
       "1  // Functions as values of a variable\\nvar cube...  \n",
       "2  function median(ary) {\\n    if (ary.length == ...  \n",
       "3               [\\n  null,\\n  4,\\n  3.5,\\n  2.1\\n]\\n  \n",
       "4  (() => {\\n    'use strict';\\n\\n    // median :...  "
      ]
     },
     "execution_count": 2,
     "metadata": {},
     "output_type": "execute_result"
    }
   ],
   "source": [
    "# Read the data to be used for training and testing of the model.\n",
    "df = pd.read_csv('data.csv')\n",
    "\n",
    "df.head()"
   ]
  },
  {
   "cell_type": "markdown",
   "id": "03fd8626",
   "metadata": {},
   "source": [
    "## Data observation and cleaning\n",
    "\n",
    "Lets check the amount of file_body having less than 10 characters. The purpose of doing so is to see the amount of unuseful information some of the the file_body may have."
   ]
  },
  {
   "cell_type": "code",
   "execution_count": 3,
   "id": "d900b83e",
   "metadata": {},
   "outputs": [
    {
     "name": "stdout",
     "output_type": "stream",
     "text": [
      "x.y()\n",
      "\n",
      "5\n",
      "\n",
      "\"abcd\"\n",
      "\n",
      "Infinity\n",
      "\n",
      "1320\n",
      "\n",
      "1320\n",
      "\n",
      "1320\n",
      "\n",
      "[\"DBAC\"]\n",
      "\n",
      "3\n",
      "\n",
      "nan\n",
      "2.3\n",
      "2.3\n",
      "\n",
      "2.3\n",
      "\n",
      "abcd\n",
      "\n",
      "int a;\n",
      "\n",
      "int j;\n",
      "\n",
      "> env\n",
      "\n",
      "a %*% b\n",
      "\n",
      "diag(3)\n",
      "\n",
      "g > h\n",
      "\n",
      "a > g\n",
      "\n",
      "alarm()\n",
      "\n",
      "&s{}\n",
      "\n",
      "new(s)\n",
      "\n",
      "x := 3\n",
      "\n",
      "x\n",
      "\n",
      "EvenQ[8]\n",
      "\n",
      "nan\n",
      "5\n",
      "6\n",
      "\n",
      "$ math\n",
      "\n",
      "tsitest\n",
      "\n",
      "8664\n",
      "\n",
      "f[1,2]\n",
      "\n",
      "f[]\n",
      "\n",
      "x=Null;\n",
      "\n",
      "x===Null\n",
      "\n",
      "0^0\n",
      "\n",
      "f[]\n",
      "\n",
      "Gamma[x]\n",
      "\n",
      "a = 0\n",
      "\n",
      "IsNaN(x)\n",
      "\n",
      "nan\n",
      "lcm(m,n)\n",
      "\n",
      "eye(3)\n",
      "\n",
      "eye(2,3)\n",
      "\n",
      "A'\n",
      "\n",
      "gamma(x)\n",
      "\n",
      "det(A)\n",
      "\n",
      "INF\n",
      "\n",
      "xpbombs\n",
      "\n",
      "pi\n",
      "\n",
      " clock\n",
      "\n",
      "life\n",
      "\n",
      "XYZ\n",
      "\n",
      "\\ ->\n",
      "\n",
      "\\\n",
      "\n",
      "->\n",
      "\n",
      "\"ha\" x 5\n",
      "\n",
      "nan\n",
      "&foo;\n",
      "\n",
      "foo;\n",
      "\n"
     ]
    }
   ],
   "source": [
    "\n",
    "for i in range(df.shape[0]):\n",
    "    if len(str(df.iloc[i]['file_body']))<10:\n",
    "        print(df.iloc[i]['file_body'])"
   ]
  },
  {
   "cell_type": "markdown",
   "id": "d72ac736",
   "metadata": {},
   "source": [
    "#### Observation 1 -\n",
    "From the output above, it can be observed that some of the file_body carries some irrelevant information.\n",
    "\n",
    "### Data distribution\n",
    "Now, lets plot a graph to see the distribution of samples per class."
   ]
  },
  {
   "cell_type": "code",
   "execution_count": 4,
   "id": "7b720eee",
   "metadata": {},
   "outputs": [
    {
     "data": {
      "image/png": "[encoded data removed]",
      "text/plain": [
       "<Figure size 936x504 with 1 Axes>"
      ]
     },
     "metadata": {
      "needs_background": "light"
     },
     "output_type": "display_data"
    }
   ],
   "source": [
    "# Create a function to plot dictionary as graph\n",
    "def plot_distribution(lang_lst):\n",
    "    \n",
    "    # Create a dictionary with language as Key and total number of samples per language as Value\n",
    "    lang_count = dict(Counter(lang_lst).items())\n",
    "\n",
    "    # Sort the dictionary in decreasing order\n",
    "    lang_count = dict(sorted(lang_count.items(), key=lambda item: item[1], reverse = True))\n",
    "\n",
    "    plt.figure(figsize=(13,7))\n",
    "    plt.bar(*zip(*lang_count.items()))\n",
    "    plt.xticks(rotation=45)\n",
    "    plt.show()\n",
    "\n",
    "\n",
    "# Plot the number of samples per languge \n",
    "plot_distribution(df['language'].to_list())"
   ]
  },
  {
   "cell_type": "markdown",
   "id": "1d2ea95d",
   "metadata": {},
   "source": [
    "#### Observation 2 -  \n",
    "On observing the graph it can be noticed that there is certain imbalance within the number of samples per class.\n",
    "\n",
    "\n",
    "With regards to obervation 1 and 2, there is a certain step which can help in minimizing the negative effect of both these observations on the model. The step would be to first merge the file_body having same language and proj_id, and then filtering out the samples whose file_body has character length lower than 10. This would help in normalizing the distribution and getting rid of some data which is basically gibberish."
   ]
  },
  {
   "cell_type": "code",
   "execution_count": 5,
   "id": "2507a4e2",
   "metadata": {},
   "outputs": [
    {
     "name": "stdout",
     "output_type": "stream",
     "text": [
      "Number of samples in the dataset after merging rows : 9988\n"
     ]
    }
   ],
   "source": [
    "#drop the file_id column\n",
    "df.drop('file_id', axis=1, inplace = True)\n",
    "\n",
    "# Drop rows having any NA values in any columns\n",
    "df.dropna(axis = 0, how = 'any' , inplace =True)\n",
    "\n",
    "# Merge the file_body of the samples having same proj_id and language. Newline character is...\n",
    "# ...used as separator between different file_body after they are merged.\n",
    "df['file_body'] = df.groupby(['proj_id','language'])['file_body'].transform(lambda x: ' \\n '.join(x))\n",
    "\n",
    "# drop duplicate rows\n",
    "df = df.drop_duplicates()\n",
    "\n",
    "# Drop the rows still having less than 10 characters in the file_body\n",
    "df = df[df['file_body'].map(len) > 10]\n",
    "    \n",
    "print(\"Number of samples in the dataset after merging rows : \"+ str(df.shape[0]))"
   ]
  },
  {
   "cell_type": "code",
   "execution_count": 6,
   "id": "4bcd0171",
   "metadata": {},
   "outputs": [
    {
     "data": {
      "image/png": "[encoded data removed]",
      "text/plain": [
       "<Figure size 936x504 with 1 Axes>"
      ]
     },
     "metadata": {
      "needs_background": "light"
     },
     "output_type": "display_data"
    }
   ],
   "source": [
    "# Plot the number of samples per languge \n",
    "plot_distribution(df['language'].to_list())"
   ]
  },
  {
   "cell_type": "markdown",
   "id": "f9198949",
   "metadata": {},
   "source": [
    "It can noticed from the above graph that the distribution of samples per class has become more uniform compared to the previous graph."
   ]
  },
  {
   "cell_type": "markdown",
   "id": "77f69baa",
   "metadata": {},
   "source": [
    "### Split the data into train and test set"
   ]
  },
  {
   "cell_type": "code",
   "execution_count": 7,
   "id": "e6b633b5",
   "metadata": {},
   "outputs": [],
   "source": [
    "# drop proj_id as it is no longer needed\n",
    "df = df[['file_body','language']]\n",
    "\n",
    "\n",
    "# Split the data into train and test set\n",
    "X_train, X_test, y_train, y_test = train_test_split(df['file_body'], df['language'], test_size=0.25)\n"
   ]
  },
  {
   "cell_type": "markdown",
   "id": "f7a2a75a",
   "metadata": {},
   "source": [
    "## Data preprocessing"
   ]
  },
  {
   "cell_type": "markdown",
   "id": "b560c1a1",
   "metadata": {},
   "source": [
    "Create a regex pattern to identify three categories of tokens i.e. Keywords/Variables, Operators and Tabs/Spaces/Braces. Numbers are common for all languages therfore it is better to not include them as tokens and they wont have any impact in differentiating languages.\n",
    "\n",
    "\n",
    "### Tokenization"
   ]
  },
  {
   "cell_type": "code",
   "execution_count": 8,
   "id": "67577c41",
   "metadata": {},
   "outputs": [
    {
     "name": "stdout",
     "output_type": "stream",
     "text": [
      "['\\t', ' ', '!', '!!', '!!!', '!!.', '!$', '!&', '!*', '!-*-', '!-----------------------------------------------------------------------', '!</', '!=', '!==', '!===', '!\\\\', '\"', '#', '#!', '#!/', '##', '###', '######', '#######', '########', '#-', '#.', '#::', '#<', '#=>', '#@', '#\\\\', '$', '$!', '$#', '$#$', '$$', '$.', '$/', '$=', '$@', '$_', '$_->', '$_\\\\', '%', '%#', '%$', '%%', '%%\\\\', '%*', '%+', '%-', '%.', '%.*', '%=', '&', '&#', '&$', '&&', '&&&', '&/@', '&:', '&=', '&@', \"'\", '(', ')', '*', '*$', '**', '***', '*.', '*/', '*=', '*_', '+', '+$', '++', '++$', '+-', '+.', '+/', '+:', '+:=', '+=', '+\\\\', '+_', ',', '-', '-#', '-$', '-%', '-*-', '--', '---', '----', '-----', '------', '----------', '------------', '--------------', '-----------------------', '------------------------------------------------------', '-------------------------------------------------------------------', '-->', '-.', '-=', '->', '->_', '.', '.$', '.*', '.+', '..', '..$', '..-', '...', '....', '.....', '......', '.......', '...\\\\', '..<', './', '.=', '.\\\\', '.^', '._', '.__', '/', '/$', '/%', '/*', '/**', '/.', '//', '//--------------------------------------------------------------------------------------------------', '///', '//=', '/:', '/=', '/>', '/>\\\\', '/@', '/\\\\', '/^', '/^\\\\', ':', ':$', ':%', ':*', ':+', ':-', ':.', ':/', '://', '::', '::*', '::-', ':::', '::<', ':=', ':>', ':?', ':\\\\', ':\\\\\\\\', ':_', ';', '<', '<!', '<$', '<$>', '<*>', '<-', '<--', '</', '<:', '<<', '<<-', '<<=', '<=', '<=>', '<>', '<?', '<_>>', '=', '=!=', '=$', '=%', '=*', '=-', '=./', '=:', '=<<', '==', '===', '==>', '=>', '=\\\\', '=~', '>', '>%', '>&', '>.', '>::', '><', '></', '>=', '>>', '>>=', '>>>', '>?', '>\\\\', '?', '?.', '?:', '?</', '?>', '??', '???', '?\\\\', '@', '@#', '@$', '@$_', '@@', '@@@', '@_', '[', '\\\\', '\\\\$', '\\\\&', '\\\\&_', '\\\\@', '\\\\\\\\', ']', '^', '^%', '^=', '^\\\\', '^^', '_', '_1', '_2', '__', '___', '____', '_____', '__file__', '__future__', '__init__', '__main__', '__name__', '_bmp', '_fft', '_h', '_hinst', '_hwnd', '_i', '_m', '_name', '_p', '_s', '_value', '_x', '_y', '`', 'a', 'a0', 'a1', 'a2', 'a3', 'a4', 'a_', 'a_list', 'aa', 'ab', 'abab', 'abacus', 'abc', 'abcd', 'abcdefghijklmnopqrstuvwxyz', 'abdc', 'abe', 'abi', 'able', 'abort', 'about', 'above', 'abs', 'absolute', 'abstract', 'abundant', 'ac', 'acbd', 'acc', 'accept', 'accepts', 'access', 'according', 'account', 'accu', 'accum', 'accumulate', 'accumulator', 'acdb', 'ace', 'achar', 'ack', 'ackermann', 'acos', 'acquire', 'across', 'act', 'action', 'actions', 'active', 'activexobject', 'actual', 'actually', 'ad', 'adbc', 'adcb', 'add', 'add2', 'addall', 'added', 'adder', 'adding', 'additem', 'addition', 'additional', 'addr', 'address', 'adds', 'addsub', 'adj', 'adjacent', 'adjust', 'adv', 'advance', 'advancedby', 'ae', 'after', 'aftermath', 'again', 'against', 'age', 'ages', 'agm', 'ah', 'ai', 'al', 'alan', 'alas', 'alen', 'aleph', 'alert', 'algorithm', 'alias', 'align', 'aligned', 'alignment', 'aline', 'aliquot', 'alive', 'all', 'alloc', 'alloca', 'allocatable', 'allocate', 'allocated', 'allocation', 'allow', 'allowed', 'allows', 'almost', 'along', 'alpha', 'alphabet', 'alphabeta', 'already', 'also', 'alternate', 'alternative', 'alternatively', 'although', 'always', 'am', 'amax', 'amb', 'ambient', 'amicable', 'amount', 'amt', 'an', 'ana', 'anagram', 'anagrams', 'anchor', 'and', 'ang', 'angle', 'angles', 'angry', 'animage', 'animal', 'animals', 'animate', 'animation', 'annotation', 'announce', 'anonymous', 'another', 'ans', 'answer', 'answers', 'ant', 'any', 'anything', 'anyway', 'ap', 'apache', 'api', 'app', 'appear', 'appears', 'append', 'appendchild', 'appended', 'appending', 'appendto', 'apple', 'apples', 'application', 'applied', 'apply', 'appropriate', 'approx', 'april', 'ar', 'arabic', 'arbitrary', 'arc', 'arc4random_uniform', 'archive', 'arcs', 'arctan', 'are', 'area', 'arena', 'arg', 'arg1', 'arg2', 'argc', 'args', 'argument', 'argumenterror', 'arguments', 'argv', 'arithmetic', 'arity', 'around', 'arr', 'arr1', 'arr2', 'array', 'arraylist', 'arrayof', 'arrays', 'arrow', 'article', 'ary', 'as', 'ascending', 'ascension', 'ascii', 'ascii_lowercase', 'asciistring', 'asdigit', 'asin', 'ask', 'aslist', 'assert', 'assert_eq', 'assert_equal', 'assign', 'assigned', 'assignment', 'assistants', 'assoc', 'associated', 'associativity', 'assume', 'assumes', 'ast', 'at', 'atan', 'atan2', 'atime', 'atoi', 'atomic', 'attempt', 'attempts', 'attr', 'attr_accessor', 'attr_reader', 'attribute', 'attributes', 'august', 'author', 'auto', 'automatically', 'aux', 'av', 'avail', 'available', 'average', 'avg', 'avoid', 'awake', 'away', 'awesome', 'awt', 'ax', 'axes', 'axis', 'ay', 'b', 'b0', 'b1', 'b2', 'b3', 'b_', 'ba', 'bacd', 'back', 'back_inserter', 'background', 'backtracking', 'backwards', 'bad', 'badc', 'bag', 'bail', 'baker', 'bal', 'balance', 'balanced', 'balancedternary', 'ball', 'balls', 'banana', 'bananas', 'band', 'bar', 'bark', 'barrier', 'bars', 'base', 'based', 'bases', 'bash', 'basic', 'baz', 'bb', 'bc', 'bcad', 'bcda', 'bd', 'bdac', 'bdca', 'be', 'bea', 'beads', 'beadsort', 'beats', 'beautiful', 'beaver', 'because', 'becomes', 'been', 'beep', 'beer', 'before', 'begin', 'beginning', 'behold', 'being', 'below', 'benchmark', 'benjamin', 'bernie', 'best', 'best_i', 'best_len', 'bestshuffle', 'beta', 'beth', 'better', 'between', 'beware', 'beyond', 'bf', 'bfoffbits', 'bg', 'bi', 'bi_rgb', 'bias', 'biased', 'bibitcount', 'bicompression', 'bifunction', 'big', 'bigdecimal', 'bigger', 'bigint', 'biginteger', 'bignum', 'biguint', 'biheight', 'bin', 'binary', 'binary_search', 'binarysearch', 'bind', 'binding', 'binomial', 'binop', 'bins', 'biplanes', 'bird', 'birds', 'birmingham', 'bisect', 'bisize', 'bisizeimage', 'bit', 'bitmap', 'bitmapfileheader', 'bitmapinfo', 'bits', 'bitset', 'bitwise', 'biwidth', 'bl', 'black', 'blah', 'blank', 'blanks', 'blen', 'blend', 'bless', 'blinker', 'blnup', 'block', 'blocks', 'bloop', 'blue', 'bluemaster', 'bm', 'bmheight', 'bmiheader', 'bmp', 'bmp_size', 'bmwidth', 'bn', 'bo', 'board', 'boards', 'bob', 'body', 'bogosort', 'bold', 'book', 'bool', 'boolean', 'boost', 'border', 'borderlayout', 'bored', 'both', 'bottle', 'bottles', 'bottom', 'bought', 'bound', 'boundary', 'bounded', 'bounding', 'bounds', 'bounty', 'box', 'box_side', 'boxes', 'boy', 'bozo', 'bp', 'bpm', 'bps', 'br', 'bracket', 'brackets', 'branch', 'branches', 'break', 'breaks', 'brians', 'brick', 'brother', 'brown', 'brush', 'brute', 'bs', 'bsd', 'bsearch', 'bt', 'btest', 'bubble', 'bubble_sort', 'bubblesort', 'bucket', 'buckets', 'buf', 'buffer', 'bufferedimage', 'bufferedreader', 'bufferindex', 'bufio', 'bug', 'build', 'built', 'bulls', 'bumf', 'bureaucracy', 'burning', 'bush', 'busy', 'but', 'button', 'buttonpanel', 'buttons', 'buzz', 'bw', 'bx', 'by', 'bye', 'byte', 'bytearray', 'byteorder', 'bytes', 'bytestring', 'c', 'c0', 'c1', 'c2', 'c3', 'c4', 'c_int', 'c_str', 'ca', 'cabd', 'cache', 'cadb', 'caesar', 'cal', 'calc', 'calculate', 'calculated', 'calculates', 'calculating', 'calculation', 'calculations', 'calendar', 'call', 'callback', 'called', 'callee', 'caller', 'calling', 'calloc', 'calls', 'camera', 'cameraphone', 'can', 'candidate', 'candidates', 'cannot', 'canvas', 'cap', 'capacity', 'capitalize', 'car', 'card', 'cards', 'careful', 'carolina', 'carpet', 'carry', 'cars', 'case', 'cases', 'cast', 'casting', 'cat', 'catalan', 'catch', 'category', 'cath', 'cats', 'caught', 'cause', 'cb', 'cbad', 'cbda', 'cbind', 'cc', 'cd', 'cdab', 'cdba', 'ce', 'cei', 'ceil', 'ceiling', 'cell', 'cell_size', 'cells', 'cent', 'center', 'centers', 'centerx', 'centery', 'centre', 'centroids', 'cerr', 'certain', 'cf', 'cfg', 'cfmt', 'cgi', 'ch', 'chain', 'chan', 'chance', 'change', 'changed', 'changes', 'channel', 'channels', 'chaos', 'char', 'character', 'characterremarks', 'characters', 'charat', 'charcodeat', 'charlie', 'charlist', 'chars', 'charset', 'check', 'checker', 'checking', 'checks', 'checksum', 'cheese', 'cherry', 'chess960', 'chi2probability', 'chi2uniformdistance', 'child', 'children', 'choice', 'choices', 'cholesky', 'chomp', 'choose', 'chop', 'chose', 'chosen', 'chr', 'christmas', 'chrono', 'chunk', 'ci', 'cie', 'cin', 'cipher', 'ciphermode', 'ciphertext', 'circle', 'circles', 'circs', 'cis', 'ck', 'cl', 'class', 'classes', 'classify', 'clean', 'cleaned', 'clear', 'clen', 'click', 'clicked', 'clicks', 'client', 'clip', 'clippolygon', 'clock', 'clone', 'close', 'closed', 'closest', 'closestpair', 'closing', 'closure', 'clr', 'cls', 'clubs', 'cluster', 'clusters', 'cm', 'cmath', 'cmd', 'cmp', 'cmplx', 'cmpsts', 'cnt', 'co', 'co9', 'cocktailsort', 'code', 'codes', 'coding', 'coef', 'coeff', 'coefficient', 'coefficients', 'coeffs', 'coffee', 'coin', 'coins', 'col', 'coll', 'collapse', 'collect', 'collection', 'collections', 'collectors', 'collie', 'color', 'color_component', 'colored', 'colors', 'colour', 'colours', 'cols', 'column', 'columncount', 'columns', 'com', 'comb', 'combination', 'combinations', 'combinator', 'combine', 'combos', 'combs', 'combsort', 'come', 'comes', 'comma', 'command', 'commands', 'comment', 'comments', 'common', 'comp', 'compact', 'compaq', 'comparable', 'comparator', 'compare', 'compareto', 'comparing', 'comparison', 'comparisons', 'compass', 'compilation', 'compile', 'compiled', 'compiler', 'compilers', 'complement', 'complete', 'completed', 'complex', 'complex128', 'component', 'components', 'compose', 'composite', 'composition', 'compress', 'compressed', 'compression', 'compute', 'computed', 'computer', 'computes', 'computing', 'concat', 'concatenation', 'concatmap', 'concurrent', 'cond', 'condition', 'conditions', 'conf', 'config', 'configuration', 'confuse', 'confused', 'confusion', 'congratulations', 'conj', 'conjtranspose', 'conjugate', 'conn', 'connect', 'connection', 'connections', 'cons', 'consecutive', 'consider', 'considered', 'console', 'consolidate', 'const', 'const_iterator', 'constant', 'constantarray', 'constants', 'constexpr', 'constraint', 'constraints', 'construct', 'constructor', 'cont', 'contain', 'container', 'containing', 'contains', 'containskey', 'content', 'contents', 'contenttostring', 'context', 'continue', 'continued', 'continuedfraction', 'control', 'convenience', 'conversion', 'convert', 'converted', 'converts', 'convolution', 'cooling', 'cooper', 'coord', 'coordinate', 'coordinates', 'coords', 'copied', 'copies', 'copy', 'core', 'corner', 'corpus', 'corr', 'correct', 'correctly', 'corresponding', 'cos', 'cost', 'costs', 'cosx', 'could', 'couldn', 'count', 'counter', 'counters', 'counting', 'counting_sort', 'countingsort', 'counts', 'countsubstring', 'couple', 'course', 'cout', 'cow', 'cows', 'cp', 'cp1', 'cp2', 'cplx', 'cpu', 'cr', 'crate', 'crc', 'crc32', 'creal', 'cream', 'create', 'create_polygon', 'created', 'createelement', 'createpen', 'creates', 'createtextnode', 'createwindow', 'creating', 'creation', 'croak', 'cross', 'cross_product', 'crossproduct', 'crypto', 'cs', 'csize', 'csol', 'cstdlib', 'cstring', 'csv', 'ct', 'ctime', 'ctrl', 'ctx', 'ctype', 'ctypes', 'cube', 'cubes', 'cuboid', 'cull', 'cur', 'curl', 'curr', 'current', 'current_score', 'currently', 'currenttime', 'currenttimemillis', 'curry', 'curse', 'curses', 'cursor', 'curve', 'custom', 'cut', 'cv', 'cvs', 'cx', 'cy', 'cyan', 'cycle', 'cycles', 'cyclic', 'cz', 'd', 'd0', 'd050', 'd1', 'd101', 'd190', 'd2', 'd202', 'd3', 'd4', 'd5', 'd7', 'da', 'dabc', 'dacb', 'dakota', 'daleth', 'dan', 'dancing', 'dane', 'dark', 'darwin', 'dat', 'data', 'data2', 'database', 'dataset', 'date', 'dateformat', 'dateofbirth', 'dates', 'datetime', 'datum', 'david', 'day', 'day_of_month', 'day_of_week', 'dayname', 'daynum', 'dayofweek', 'dayofyear', 'days', 'db', 'dbca', 'dbname', 'dc', 'dcab', 'dcba', 'dcr', 'dct', 'dd', 'ddate', 'dday', 'de', 'dead', 'deal', 'deallocate', 'dealt', 'debug', 'dec', 'december', 'decimal', 'decipher', 'deck', 'deck2', 'declaration', 'declare', 'declared', 'decode', 'decoded', 'decomp', 'decompress', 'deconv', 'decreasing', 'decrement', 'decrypt', 'dee', 'deepcopy', 'def', 'default', 'defaultcloseoperation', 'defaultdict', 'defaults', 'defer', 'deficient', 'define', 'defined', 'defining', 'definition', 'deg', 'deg2rad', 'degree', 'degrees', 'del', 'delay', 'delegate', 'delegator', 'delete', 'delete_', 'deleteby', 'deleted', 'deleteobject', 'delim', 'delta', 'demand', 'demo', 'demonstrate', 'den', 'denom', 'denominator', 'dep', 'department', 'depends', 'deps', 'dept', 'depth', 'deque', 'dequeue', 'deranged', 'derangements', 'derive', 'derived', 'deriving', 'des_system_lib', 'desc', 'descending', 'described', 'description', 'desire', 'desired', 'dest', 'destination', 'destroy', 'det', 'details', 'detect', 'determinant', 'determine', 'dev', 'df', 'dfr', 'dh', 'di', 'diag', 'diagonal', 'dialog', 'diameter', 'dib_rgb_colors', 'dice', 'dice5', 'dice7', 'dict', 'dict_size', 'dictionary', 'dictsize', 'did', 'didn', 'die', 'dif', 'diff', 'difference', 'different', 'difficult', 'dig', 'digest', 'digit', 'digital', 'digits', 'digittoint', 'digs', 'dim', 'dim1', 'dim2', 'dimension', 'dimensional', 'dimensions', 'dir', 'direct', 'direction', 'directions', 'directly', 'directory', 'dirs', 'disabled', 'disc', 'discard', 'discord', 'discordiandate', 'discriminant', 'disjoint', 'disk', 'disp', 'display', 'display1d', 'dist', 'distance', 'distcheck', 'distinct', 'distribution', 'distsq', 'dit', 'div', 'divide', 'divided', 'dividend', 'division', 'divisor', 'divisors', 'divmod', 'divs', 'divsum', 'dl', 'dlat', 'dlen', 'dlist', 'dll', 'dllist', 'dlnode', 'dlon', 'dm', 'dn', 'do', 'doc', 'docs', 'doctype', 'document', 'documentation', 'doe', 'does', 'doesn', 'dof', 'dog', 'dogs', 'doing', 'dollar', 'domainerror', 'don', 'done', 'door', 'doors', 'dot', 'dot_product', 'dotproduct', 'double', 'doublearray', 'doublearrayof', 'doves', 'down', 'downcase', 'downto', 'dp', 'dpy', 'dq', 'dr', 'dragon', 'drains', 'draw', 'draw_line', 'draw_sphere', 'drawline', 'drawtree', 'drink', 'drinks', 'drop', 'dropwhile', 'drummers', 'drumming', 'ds', 'dst', 'dsum', 'dt', 'dtd', 'dtheta', 'due', 'dummy', 'dump', 'dunhill', 'dup', 'duplicate', 'duplicated', 'duplicates', 'duration', 'during', 'dutch', 'dw01', 'dw02', 'dw03', 'dw04', 'dw05', 'dw06', 'dware', 'dword', 'dwpbits', 'dx', 'dy', 'dy1', 'dy2', 'dy3', 'dynamic', 'e', 'e1', 'e2', 'ea', 'each', 'each_char', 'each_slice', 'each_with_index', 'eas', 'easier', 'east', 'easter', 'easy', 'eat', 'eatable', 'eating', 'eb', 'echo', 'ed', 'edge', 'edges', 'edit', 'ee', 'ef', 'ei', 'eight', 'eighth', 'either', 'el', 'elapsed', 'ele', 'elem', 'element', 'elemental', 'elements', 'elemindex', 'elems', 'eleven', 'eleventh', 'elided', 'elif', 'elk', 'elpsd', 'else', 'elseif', 'elsif', 'em', 'email', 'emily', 'emit', 'employee', 'employees', 'empty', 'en', 'enable', 'enabled', 'enc', 'encipher', 'encode', 'encoded', 'encoding', 'encountered', 'encrypt', 'end', 'enddo', 'endian', 'endif', 'endindex', 'ending', 'endl', 'endpoint', 'ends', 'endswith', 'engaged', 'engine', 'english', 'enjoy', 'enough', 'enqueue', 'ensure', 'ensuring', 'enter', 'entered', 'entire', 'entries', 'entropy', 'entry', 'enuff', 'enum', 'enumerate', 'enumerator', 'enumfromto', 'env', 'envir', 'environment', 'eof', 'eos', 'epoch', 'eps', 'epsilon', 'eq', 'equal', 'equality', 'equals', 'equations', 'equiv', 'equivalent', 'er', 'erase', 'eratosthenes', 'err', 'errmsg', 'errno', 'error', 'errors', 'es', 'esc', 'escape', 'est', 'estimate', 'et', 'etc', 'euclidean', 'euler', 'ev', 'eval', 'evaluate', 'evaluated', 'evaluates', 'evaluation', 'eve', 'even', 'evens', 'event', 'every', 'everything', 'evolve', 'evt', 'ex', 'exact', 'exactly', 'example', 'examples', 'exc', 'except', 'exception', 'exceptions', 'exclusive', 'exec', 'execute', 'executed', 'execution', 'exist', 'existing', 'exists', 'exit', 'exit_err', 'exit_failure', 'exit_on_close', 'exit_success', 'exp', 'exp2', 'expand', 'expanded', 'expect', 'expected', 'explicit', 'explicitly', 'exponent', 'exponential', 'exponentiation', 'exported', 'expr', 'expression', 'expressions', 'extend', 'extended', 'extends', 'extension', 'extern', 'external', 'extra', 'extract', 'eye', 'f', 'f0', 'f08', 'f1', 'f2', 'f2008', 'f3', 'f32', 'f4', 'f5', 'f6', 'f64', 'f7', 'f8', 'f_', 'fa', 'fabs', 'fac', 'face', 'faces', 'fact', 'factor', 'factorial', 'factors', 'fail', 'failed', 'failure', 'fall', 'false', 'family', 'fancy', 'fangs', 'far', 'fast', 'faster', 'fatal', 'fatalln', 'favor', 'favouritefruit', 'fay', 'fb', 'fc', 'fclose', 'fcntl', 'fd', 'fe', 'feature', 'february', 'fee', 'feed', 'feof', 'few', 'ff', 'ffff', 'fflush', 'ffr', 'ffree', 'fft', 'fg', 'fgetc', 'fgets', 'fh', 'fi', 'fiance', 'fib', 'fibo', 'fibonacci', 'fibs', 'fid', 'fie', 'field', 'fields', 'fieldsbyrow', 'fifo', 'fifteen', 'fifth', 'figure', 'file', 'fileheader', 'fileinput', 'filename', 'filepath', 'filereader', 'files', 'filesize', 'filesystem', 'filewriter', 'fill', 'filled', 'filloval', 'fillrect', 'fillstyle', 'filter', 'filtered', 'filternot', 'filters', 'fin', 'final', 'finally', 'find', 'findex', 'finding', 'finds', 'finger', 'fingered', 'fingers', 'finish', 'finished', 'fire', 'first', 'firststep', 'fish', 'fit', 'fitness', 'five', 'fix', 'fixed', 'fixedpoint', 'fizz', 'fizzbuzz', 'fl', 'flag', 'flags', 'flat', 'flat_map', 'flatmap', 'flatten', 'fletcher', 'flip', 'flipcol', 'fliprow', 'flips', 'flist', 'float', 'float32', 'float64', 'floating', 'floats', 'floodfill', 'floor', 'floors', 'floyd', 'flush', 'fly', 'fm', 'fmap', 'fmt', 'fn', 'fname', 'fntest', 'fo', 'fold', 'foldl', 'foldleft', 'foldr', 'follow', 'followed', 'following', 'follows', 'font', 'foo', 'foobar', 'food', 'foodbox', 'fopen', 'for', 'for_each', 'forall', 'force', 'foreach', 'foreign', 'forest', 'forever', 'fork', 'fork1', 'forkio', 'forks', 'form', 'form_', 'format', 'formats', 'formatted', 'formatter', 'formatting', 'formula', 'forprimes', 'forth', 'fortran', 'forward', 'forwarditerator', 'found', 'foundation', 'four', 'fourbitadder', 'fourth', 'fout', 'fox', 'fp', 'fpart', 'fprintf', 'fps', 'fputs', 'fq', 'fr', 'frac', 'fractal', 'fraction', 'fractional', 'fractions', 'fractran', 'frame', 'fread', 'fred', 'free', 'free_img', 'french', 'freq', 'freqs', 'frequencies', 'frequency', 'friday', 'fridays', 'friend', 'from', 'fromdigits', 'fromenum', 'frominteger', 'fromintegral', 'fromjust', 'fromlist', 'fromroman', 'front', 'frontier', 'frost', 'frozenset', 'fruit', 'fruits', 'fs', 'fscanf', 'fsf1', 'fsf2', 'fso', 'fst', 'fstat', 'fstream', 'ft', 'full', 'fulladder', 'fullname', 'fully', 'fun', 'func', 'funcs', 'function', 'functional', 'functions', 'functools', 'further', 'future', 'fw', 'fword', 'fwrite', 'fx', 'fy', 'g', 'g0', 'g1', 'g2', 'gain', 'galloway', 'game', 'gameoflife', 'games', 'gamma', 'gap', 'gaps', 'garbage', 'gasp', 'gauss', 'gav', 'gave', 'gay', 'gb', 'gb82', 'gc', 'gcc', 'gcd', 'gd', 'ge', 'gecos', 'geese', 'gen', 'gender', 'general', 'generate', 'generated', 'generates', 'generation', 'generator', 'generic', 'geometric', 'george', 'german', 'get', 'getargs', 'getbytes', 'getch', 'getchar', 'getconsolewindow', 'getcontext', 'getdc', 'getelementbyid', 'getheight', 'gethostname', 'getinstance', 'getkey', 'getline', 'getlines', 'getmessage', 'getname', 'getorelse', 'getpixel', 'gets', 'getstdhandle', 'gettickcount', 'gettime', 'getting', 'getvalue', 'getweight', 'getwidth', 'gfortran', 'gg', 'ghosh', 'gi', 'gid', 'gifts', 'gimel', 'girl', 'girls', 'github', 'give', 'given', 'gives', 'gl', 'glcolor3f', 'glider', 'global', 'globals', 'glucose', 'glvertex2f', 'glyph', 'gmp', 'gmp_printf', 'gn', 'gnomesort', 'go', 'goal', 'goat', 'goes', 'going', 'golang', 'gold', 'golden', 'gone', 'gonum', 'good', 'goodbye', 'google', 'goroutine', 'got', 'goto', 'gr', 'grab', 'gradient', 'graph', 'graphics', 'graphics2d', 'gray', 'grayimage', 'great', 'greater', 'greatest', 'green', 'gregorian', 'gregoriancalendar', 'grep', 'grey', 'grid', 'gridsize', 'grill', 'grist', 'grmap', 'group', 'group_by', 'groupby', 'grouped', 'groups', 'grows', 'grp', 'grrrrrr', 'gs', 'gsub', 'gt', 'gtech', 'gtk', 'guard', 'guess', 'guessed', 'guesses', 'gui', 'guy', 'guys', 'gx', 'gy', 'h', 'h0', 'h1', 'h2', 'h3', 'h4', 'ha', 'had', 'hailstone', 'hal', 'half', 'halfadder', 'halt', 'halve', 'ham', 'hamming', 'hammings', 'hand', 'handle', 'handled', 'handler', 'handles', 'handling', 'hands', 'hanoi', 'happen', 'happens', 'happy', 'hard', 'harmonic', 'harvest', 'has', 'haschanged', 'hash', 'hashmap', 'hashset', 'haskell', 'hasnext', 'hasprefix', 'have', 'haversine', 'having', 'haystack', 'hbox', 'hbrush', 'hc', 'hd', 'hdc', 'he', 'head', 'header', 'heading', 'headings', 'heads', 'heap', 'heapsort', 'heart', 'hearts', 'hei', 'height', 'hello', 'helloworld', 'help', 'helper', 'hens', 'her', 'here', 'heronian', 'heth', 'hex', 'hexagon', 'hexdigest', 'hh', 'hi', 'hic', 'high', 'higher', 'highest', 'hinstance', 'hint', 'hints', 'his', 'hist', 'histo', 'histogram', 'history', 'hit', 'hm', 'hofstadter', 'hold', 'holds', 'hole', 'holiday', 'holidays', 'holyday', 'home', 'homephone', 'hope', 'hopefully', 'horde', 'horizontal', 'horner', 'horse', 'host', 'hostname', 'hough', 'hour', 'hours', 'house', 'how', 'however', 'hpp', 'hr', 'hra', 'href', 'hs', 'ht', 'html', 'http', 'https', 'hu', 'huff', 'huffman', 'huffmantree', 'huh', 'human', 'hundred', 'hundreds', 'hw', 'hwall', 'hwnd', 'hypot', 'i', 'i0', 'i1', 'i10', 'i2', 'i2fmt', 'i3', 'i32', 'i4', 'i5', 'i6', 'i64', 'i8', 'i8fmt', 'i_max', 'ia', 'iachar', 'ian', 'iarray', 'iban', 'ice', 'iced', 'ichar', 'ichor', 'icol', 'id', 'ident', 'identical', 'identifier', 'identify', 'identity', 'identitymatrix', 'ids', 'idx', 'idxs', 'ie', 'ieee', 'if', 'if2', 'ifdef', 'ifelse', 'ifndef', 'ifstream', 'ignore', 'ignored', 'ignoring', 'ii', 'iindex', 'il', 'illegalargumentexception', 'im', 'im2', 'imag', 'image', 'imageio', 'images', 'imax', 'img', 'imglib', 'imin', 'immediately', 'immutable', 'impl', 'implausible', 'implement', 'implementation', 'implemented', 'implements', 'implicit', 'implode', 'import', 'important', 'in', 'in_array', 'inc', 'incbutton', 'include', 'included', 'includes', 'including', 'inclusive', 'incoming', 'incorrect', 'incr', 'increasing', 'increment', 'ind', 'indent', 'independent', 'indepenent', 'index', 'index1', 'index2', 'indexed', 'indexes', 'indexing', 'indexof', 'indicate', 'indicating', 'indices', 'individual', 'indx', 'inetaddress', 'inf', 'infile', 'infinite', 'infinity', 'infix', 'info', 'infoheader', 'information', 'ini', 'init', 'initial', 'initialization', 'initialize', 'initialized', 'initially', 'inits', 'inject', 'inline', 'inner', 'inorder', 'inout', 'inp', 'input', 'input1', 'input2', 'inputdata', 'inputlist', 'inputs', 'inputstream', 'inputstreamreader', 'inputstring', 'ins', 'insensitive', 'insert', 'insert_after', 'insertafter', 'insertion', 'insertion_sort', 'insertionsort', 'inside', 'inspect', 'instance', 'instanceof', 'instances', 'instead', 'instruction', 'int', 'int1', 'int16', 'int2', 'int32', 'int64', 'int64_t', 'int8', 'intarray', 'intarrayof', 'integer', 'integerdigits', 'integers', 'integral', 'integrate', 'integration', 'integrator', 'intensity', 'intent', 'inter', 'intercalate', 'interface', 'intermediate', 'internal', 'interruptedexception', 'intersect', 'intersection', 'interval', 'intery', 'intn', 'into', 'into_iter', 'intrinsic', 'ints', 'intslice', 'intstream', 'intvalue', 'intvar', 'inv', 'invalid', 'inventory', 'inverse', 'inverses', 'invisible', 'invoke', 'invoked', 'invokelater', 'io', 'ioexception', 'iomanip', 'ios', 'iostat', 'iostream', 'iota', 'ioutil', 'ip', 'ipa', 'ipart', 'ipr', 'ipv4', 'ipv6', 'ir', 'irand', 'irb', 'irow', 'is', 'is_empty', 'is_mersenne_prime', 'is_numeric', 'is_open', 'is_prime', 'isa', 'isaac', 'isalpha', 'isdigit', 'isempty', 'iseven', 'ishappy', 'isharshad', 'isinstance', 'isleap', 'isleapyear', 'islice', 'isn', 'isnan', 'isnull', 'isnumeric', 'iso_c_binding', 'isop', 'ispalindrome', 'ispangram', 'isprefixof', 'isprime', 'iss', 'isset', 'issorted', 'isspace', 'ist', 'istream', 'istream_iterator', 'istringstream', 'isvalid', 'isvisible', 'it', 'item', 'item_t', 'itemcount', 'itemlist', 'items', 'iter', 'iterable', 'iterate', 'iterating', 'iteration', 'iterations', 'iterative', 'iterator', 'iterator_traits', 'itertools', 'itoa', 'its', 'itself', 'iv', 'ival', 'ivy', 'ix', 'iy', 'izip', 'j', 'jack', 'jam', 'jan', 'jane', 'january', 'java', 'javascript', 'javax', 'jdayn', 'jdayshift', 'jdoe', 'jerseynum', 'jframe', 'jim', 'jj', 'job', 'jobs', 'joe', 'john', 'join', 'jointostring', 'jon', 'jonah', 'jpanel', 'jpg', 'js', 'jsmith', 'json', 'julia', 'julian', 'july', 'jumped', 'jumps', 'jun', 'june', 'just', 'justification', 'justified', 'justifyright', 'jvm', 'jw', 'k', 'k1', 'k2', 'k3', 'k4', 'kaprekar', 'kbd', 'kd', 'kdnode', 'kdtree', 'keep', 'kelvin', 'kernel', 'kernel32', 'key', 'keycode', 'keyevent', 'keypress', 'keys', 'keyset', 'keyword', 'keywords', 'kill', 'kind', 'king', 'kk', 'knapsack', 'knight', 'know', 'known', 'knownsum', 'kory', 'kotlin', 'kp', 'krusty', 'ks', 'kt', 'kw', 'kwargs', 'l', 'l0', 'l1', 'l2', 'l3', 'la', 'lab', 'label', 'labels', 'ladies', 'lamb', 'lambda', 'land', 'lang', 'langton', 'language', 'lapply', 'large', 'larger', 'largest', 'last', 'lastday', 'lastdtheta', 'lastindex', 'lasttheta', 'lat', 'lat1', 'lat2', 'latch', 'later', 'latest', 'latitude', 'layer', 'laying', 'layout', 'lazy', 'lazylist', 'lb', 'lc', 'lcg', 'lcm', 'lcs', 'ld', 'ldap', 'le', 'lead', 'leading', 'leaf', 'leap', 'leaping', 'least', 'leave', 'leaves', 'left', 'leftover', 'legal', 'legendre', 'len', 'len_trim', 'leng', 'length', 'lengths', 'lenna100', 'lens', 'less', 'let', 'letter', 'letters', 'level', 'levelorder', 'levels', 'levenshtein', 'lexically', 'lf', 'lfact', 'lg', 'lh', 'lhs', 'li', 'lib', 'libc', 'library', 'libs', 'license', 'life', 'lift', 'liftm', 'liftm2', 'light', 'like', 'lim', 'limit', 'limits', 'line', 'linear', 'lines', 'lineto', 'linewidth', 'link', 'linked', 'linkedlist', 'links', 'linpr', 'linux', 'lis', 'list', 'list2', 'listarray', 'listen', 'listof', 'lists', 'literal', 'little', 'live', 'lives', 'lizard', 'll', 'ln', 'lng', 'lo', 'load', 'loc', 'local', 'locale', 'localhost', 'location', 'locations', 'lock', 'lock_guard', 'log', 'log10', 'log2', 'logarithm', 'logic', 'logical', 'lon1', 'lon2', 'london', 'long', 'longarrayof', 'longer', 'longest', 'longitude', 'longstream', 'look', 'lookandsay', 'looking', 'looks', 'lookup', 'loop', 'loops', 'lords', 'lose', 'lost', 'lots', 'love', 'low', 'lower', 'lowercase', 'lowest', 'lowi', 'lows', 'lp', 'lp0', 'lparam', 'lr', 'ls', 'lst', 'lstnb', 'lstrows', 'lt', 'lu', 'lucas', 'ludic', 'ludics', 'luhn', 'lum', 'luminance', 'luminosity', 'lv', 'lw', 'lwp', 'lx', 'ly', 'm', 'm0', 'm1', 'm2', 'm3', 'm_', 'm_blue', 'm_pi', 'm_red', 'machine', 'macro', 'made', 'magenta', 'magic', 'magnitude', 'maids', 'mail', 'main', 'mainframe', 'mainloop', 'major', 'make', 'make_pair', 'make_tuple', 'makes', 'making', 'malloc', 'mallows', 'man', 'mandelbrot', 'many', 'map', 'mapaccuml', 'mapm', 'mapm_', 'mappend', 'mapping', 'maprange', 'maps', 'maptoobj', 'mar', 'march', 'margin', 'mark', 'marked', 'marker', 'markers', 'marks', 'mary', 'mask', 'master', 'mat', 'mat64', 'match', 'matched', 'matcher', 'matches', 'matching', 'math', 'matrices', 'matrix', 'matter', 'max', 'max_len', 'max_n', 'max_value', 'max_weight', 'max_x', 'max_y', 'maxcount', 'maximum', 'maximumby', 'maxindex', 'maxlen', 'maxn', 'maxnum', 'maxscore', 'maxsum', 'maxv', 'maxval', 'maxvalue', 'maxweight', 'maxx', 'maxy', 'may', 'maybe', 'maze', 'mazegenerator', 'mc', 'mcmxc', 'mcpi', 'md', 'md4', 'md5', 'mdclxvi', 'mdr', 'me', 'mean', 'mean_angle', 'meanangle', 'means', 'measure', 'median', 'mem', 'member', 'memberq', 'members', 'memcpy', 'memo', 'memoize', 'memoized', 'memory', 'memset', 'men', 'menu', 'merge', 'mergesort', 'mersenne', 'mesh', 'mess', 'message', 'messagedigest', 'messages', 'messiah', 'methinks', 'method', 'methods', 'mf', 'mi', 'mid', 'midddtheta', 'middle', 'middlethree', 'middtheta', 'midtheta', 'might', 'mil', 'milk', 'milking', 'miller', 'million', 'milliseconds', 'min', 'min_value', 'min_x', 'min_y', 'mine', 'mines', 'minesweeper', 'mini', 'minimum', 'minmax', 'minus', 'minute', 'mirror', 'misc', 'missing', 'mix', 'mkdir', 'mkstring', 'ml', 'mleft', 'mlen', 'mm', 'mmap', 'mmviii', 'mn', 'mo', 'mobilephone', 'mod', 'mode', 'model', 'modes', 'modification', 'modified', 'modify', 'module', 'modulo', 'moment', 'mon', 'monad', 'monoid', 'month', 'months', 'more', 'morse', 'morsecode', 'most', 'mother', 'mousex', 'mousey', 'move', 'moves', 'moveto', 'movetoex', 'movetofront', 'moving', 'mp', 'mp3', 'mpfr', 'mpz_class', 'mpz_init', 'mpz_t', 'mr', 'ms', 'msg', 'msg2', 'mt', 'mt19937', 'mtime', 'mtx', 'mu', 'much', 'mul', 'mul_inv', 'mult', 'multi', 'multifact', 'multiple', 'multiples', 'multiplicand', 'multiplication', 'multiplier', 'multiply', 'multisplit', 'multitude', 'munyad', 'must', 'mut', 'mutable', 'mutablelist', 'mutablelistof', 'mutate', 'mutating', 'mutationrate', 'mutex', 'mvar', 'mw', 'mx', 'my', 'myarray', 'mybitmap', 'myclass', 'mydict', 'mydocs', 'myexception', 'myinstance', 'myint', 'mysql', 'mywidget', 'møøse', 'n', 'n1', 'n2', 'n3', 'n4', 'n5', 'n_', 'n_integer', 'n_seg', 'na', 'nacci', 'name', 'named', 'namedtuple', 'names', 'namespace', 'nan', 'nand', 'nanotime', 'napier', 'narc', 'nargin', 'nationality', 'native', 'natural', 'naughty', 'navy', 'nb', 'nbrs', 'nbsp', 'nbuckets', 'nc', 'nchar', 'ncol', 'ncols', 'nd', 'ndigits', 'ndisks', 'ndx', 'ne', 'near', 'nearest', 'necessary', 'need', 'needed', 'needle', 'needles', 'needs', 'needspeeling', 'neg', 'negate', 'negative', 'negzero', 'neighbor', 'neighbors', 'neighbours', 'neither', 'nest', 'nested', 'nestlist', 'net', 'network', 'never', 'new', 'new_node', 'new_value', 'newgrid', 'newint', 'newline', 'newlist', 'newnode', 'newpos', 'newreader', 'newrow', 'newsize', 'newstring', 'newvalue', 'next', 'next_link', 'nextgen', 'nextint', 'nextline', 'nextprime', 'nf', 'nfirst', 'nfrom', 'ng', 'nguesses', 'nh', 'ni', 'nice', 'nigel', 'nil', 'nine', 'ninth', 'nio', 'nl', 'nm', 'nmax', 'nmemb', 'nn', 'no', 'node', 'node_t', 'nodes', 'non', 'none', 'nonempty', 'nonsqr', 'nonzero', 'nor', 'norm', 'normal', 'normalize', 'normally', 'north', 'northeast', 'northwest', 'norwegian', 'not', 'notation', 'note', 'notes', 'nothing', 'november', 'now', 'np', 'npos', 'nprimes', 'nr', 'nrow', 'nrows', 'ns', 'nsize', 'nsstring', 'nsutf8stringencoding', 'nt', 'nth', 'nthe', 'ntheory', 'nthroot', 'nto', 'nub', 'null', 'nullptr', 'num', 'num2str', 'number', 'numbered', 'numberfield', 'numbers', 'numberstring', 'numdigits', 'numel', 'numelements', 'numeral', 'numerator', 'numeric', 'numerical', 'numpoints', 'numpy', 'nums', 'nv', 'nw', 'nx', 'nxt', 'ny', 'nyou', 'nz', 'o', 'o1', 'o2', 'ob', 'obj', 'object', 'objects', 'occupied', 'occur', 'occurred', 'occurrence', 'occurrences', 'occurs', 'oct', 'octal', 'october', 'odd', 'odds', 'of', 'off', 'offer', 'office', 'offset', 'offsets', 'ofs', 'often', 'oh', 'oi', 'ok', 'okay', 'ol', 'old', 'omitted', 'omp', 'on', 'once', 'one', 'one_of_n', 'ones', 'onload', 'only', 'onto', 'oops', 'op', 'op1', 'open', 'opened', 'openssl', 'operand', 'operands', 'operation', 'operations', 'operator', 'operators', 'opposite', 'ops', 'opt', 'optimized', 'option', 'optional', 'optionally', 'options', 'opts', 'or', 'orange', 'ord', 'order', 'ordered', 'ordering', 'ordinal', 'org', 'orig', 'origin', 'original', 'os', 'oss', 'ostream', 'ostream_iterator', 'ostringstream', 'other', 'otherfamily', 'others', 'otherwise', 'our', 'out', 'outer', 'outfile', 'outp', 'output', 'outputlist', 'outputs', 'outside', 'oval', 'over', 'overclothes', 'overflow', 'overlap', 'overload', 'override', 'own', 'ox', 'oy', 'p', 'p0', 'p1', 'p2', 'p3', 'p4', 'p6', 'pa', 'pack', 'package', 'pad', 'padded', 'padding', 'padend', 'page', 'paint', 'paintcomponent', 'pair', 'pairs', 'palindrome', 'pallmall', 'panacea', 'pancakesort', 'panel', 'pangram', 'panic', 'paper', 'paragraph', 'parallel', 'param', 'parameter', 'parameters', 'parent', 'parentheses', 'parenthesis', 'pari', 'parse', 'parsed', 'parsefloat', 'parseint', 'parseq', 'parser', 'parsing', 'part', 'partial', 'particle', 'particles', 'partition', 'partitions', 'partridge', 'parts', 'pascal', 'pass', 'pass_md5', 'pass_salt', 'passed', 'passes', 'passing', 'passwd', 'password', 'past', 'paste', 'paste0', 'pat', 'path', 'paths', 'pattern', 'patterns', 'pause', 'pb', 'pbits', 'pc', 'pd', 'pear', 'pears', 'peek', 'pen', 'pendulum', 'pentecost', 'per', 'percent', 'percolate', 'perfect', 'perform', 'perhaps', 'perimeter', 'period', 'perl', 'perm', 'permanent', 'perms', 'permutation', 'permutations', 'permute', 'perror', 'pers', 'persistence', 'person', 'pet', 'pets', 'pf', 'pg', 'ph', 'phase', 'phi', 'philosopher', 'philosophers', 'phone', 'php', 'php_eol', 'phrase', 'pi', 'pick', 'picked', 'picture', 'pid', 'piece', 'pieces', 'piletops', 'pip', 'pipe', 'pipers', 'piping', 'pivot', 'pivotindex', 'pix', 'pixel', 'pixels', 'pixmap', 'pj', 'pk', 'pl', 'place', 'placed', 'places', 'plain', 'plaintext', 'plan', 'plane', 'platform', 'plausibility', 'plausible', 'play', 'player', 'player1', 'player2', 'playerchoice', 'playercount', 'players', 'playing', 'plays', 'please', 'plot', 'plotter', 'plotting', 'plus', 'pm', 'pn', 'png', 'pnum', 'point', 'point1', 'point2', 'pointer', 'pointers', 'points', 'poke', 'pokemon', 'pol', 'pole', 'poll', 'poly', 'polygon', 'polynomial', 'pool', 'pop', 'popped', 'population', 'pork', 'port', 'pos', 'position', 'positional', 'positions', 'positive', 'posix', 'possibilities', 'possible', 'possibly', 'post', 'postfix', 'postorder', 'posx', 'pow', 'power', 'powermod', 'powers', 'powerset', 'powi', 'pp', 'ppm', 'ppmfileout', 'pprint', 'pq', 'pqueue', 'pr', 'pre', 'prec', 'preceded', 'precedence', 'preceding', 'precision', 'pred', 'predicate', 'predicates', 'preferences', 'preferredsize', 'prefix', 'prelude', 'preorder', 'prepare', 'prepend', 'present', 'preserve', 'press', 'pretty', 'prev', 'prev_link', 'prevent', 'previous', 'price', 'prickle', 'prim', 'prime', 'prime_factors', 'primes', 'primitive', 'prince', 'print', 'print_function', 'print_r', 'printable', 'printall', 'printboard', 'printed', 'printer', 'printf', 'printing', 'println', 'printmatrix', 'prints', 'printstacktrace', 'printstream', 'prior', 'priority', 'priorityqueue', 'prisoners', 'private', 'prize', 'prob', 'probabilities', 'probability', 'probably', 'problem', 'probs', 'proc', 'procedure', 'process', 'processing', 'prod', 'produce', 'produces', 'product', 'prog', 'program', 'programming', 'progress', 'prompt', 'proper', 'properties', 'property', 'props', 'protected', 'protocol', 'prototype', 'provide', 'provided', 'provides', 'ps', 'psyco', 'pt', 'pt1', 'pt2', 'ptr', 'pts', 'pub', 'public', 'puff', 'pungenday', 'pure', 'purple', 'push', 'push_back', 'put', 'putchar', 'puts', 'putstr', 'putstrln', 'puzz', 'puzzle', 'puzzlers', 'pv', 'pw', 'px', 'pxrow', 'py', 'pygame', 'pyramid', 'python', 'python3', 'pz', 'q', 'q0', 'q1', 'q2', 'qapplication', 'qd', 'qf', 'qpushbutton', 'qq', 'qr', 'qs', 'qsort', 'qstring', 'qty', 'quadratic', 'qualified', 'quaternion', 'queen', 'queens', 'query', 'queue', 'queues', 'quibble', 'quick', 'quick_sort', 'quickly', 'quickselect', 'quicksort', 'quine', 'quit', 'quite', 'quo', 'quot', 'quote', 'quotes', 'quotient', 'quotrem', 'qw', 'qwidget', 'r', 'r0', 'r1', 'r2', 'r2cf', 'r3', 'ra', 'rad', 'radians', 'radius', 'radix', 'raise', 'raisethysword', 'ramlib', 'ran', 'rand', 'rand_max', 'randint', 'randn', 'random', 'random_number', 'random_seed', 'randomaccessiterator', 'randominteger', 'randomly', 'randomr', 'randomrio', 'randoms', 'randrange', 'randrsl', 'range', 'ranges', 'rank', 'raster', 'rat', 'rate', 'rather', 'ratio', 'rational', 'raw', 'raw_input', 'rawvalue', 'rb', 'rbegin', 'rc', 'rd', 're', 'reached', 'read', 'readall', 'readarray', 'reader', 'readfile', 'reading', 'readings', 'readline', 'readlines', 'reads', 'readstref', 'readstring', 'ready', 'real', 'realloc', 'really', 'reals', 'rec', 'received', 'recipient', 'reciprocal', 'record', 'records', 'recover', 'rect', 'rectangle', 'rectangular', 'recur', 'recurse', 'recursion', 'recursive', 'recursively', 'red', 'reduce', 'reduced', 'reduceright', 'ref', 'reference', 'references', 'reflect', 'refresh', 'refs', 'regex', 'regexp', 'register', 'regular', 'reject', 'related', 'relative', 'release', 'rem', 'remain', 'remainder', 'remaining', 'remains', 'remark', 'remarks', 'remember', 'remove', 'removed', 'removes', 'rename', 'render', 'renderinghints', 'rep', 'repaint', 'repeat', 'repeated', 'repeatedly', 'repeatedvalue', 'repeats', 'repetitions', 'repl', 'replace', 'replaceall', 'replacement', 'replacements', 'replacepart', 'replicate', 'replicatem', 'reply', 'report', 'repr', 'represent', 'representation', 'represented', 'representing', 'represents', 'reps', 'repstring', 'req', 'request', 'requested', 'require', 'required', 'requires', 'res', 'res1', 'res2', 'rescue', 'reset', 'reshape', 'resize', 'resource', 'response', 'rest', 'restore', 'result', 'result1', 'result2', 'results', 'ret', 'retreat', 'retrieve', 'return', 'returned', 'returning', 'returns', 'retval', 'rev', 'reveal', 'reversal', 'reverse', 'reversed', 'reversestring', 'rewind', 'rfpart', 'rg', 'rgb', 'rgba', 'rgbcolour', 'rh', 'rhs', 'ri', 'right', 'righto', 'rightwards', 'rings', 'rk', 'rk4', 'rl', 'rle', 'rm', 'rmax', 'rn', 'rnd', 'rnext', 'rng', 'rnum', 'ro', 'robert', 'robot', 'rock', 'rol', 'roll', 'rolled', 'rolls', 'roman', 'ronald', 'room', 'root', 'rooted', 'roots', 'rosetta', 'rosettacode', 'rot', 'rot13', 'rotate', 'rotateleft', 'rotation', 'rotations', 'round', 'rounds', 'routine', 'row', 'row_size', 'rowcount', 'rows', 'rp', 'rpn', 'rps', 'rr', 'rs', 'rsl', 'rslt', 'rst', 'rstrip', 'rt', 'ruby', 'rule', 'rules', 'ruleset', 'run', 'rune', 'runes', 'runif', 'runnable', 'running', 'runs', 'runtime', 'runtimeerror', 'rust', 'rv', 'rw', 'rx', 's', 's0', 's1', 's2', 's3', 's4', 'sa', 'safe', 'safescore', 'said', 'salary', 'salt', 'samba', 'same', 'sample', 'samples', 'samplesize', 'sandwich', 'sapply', 'sat', 'saturday', 'save', 'say', 'sb', 'sc', 'scala', 'scalar', 'scale', 'scaled', 'scaling', 'scan', 'scanf', 'scanl', 'scanl1', 'scanner', 'scene', 'scissors', 'scope', 'score', 'scores', 'scoring', 'scr', 'scratchpad', 'screen', 'script', 'sd', 'sdl', 'se', 'search', 'season', 'seasons', 'sec', 'second', 'seconds', 'secret', 'secs', 'section', 'sedol', 'see', 'seed', 'seeds', 'seedsremoved', 'seek', 'seen', 'seesaw', 'segment', 'segments', 'select', 'selected', 'selection', 'selectionsort', 'selectobject', 'self', 'sem', 'send', 'sense', 'sensitive', 'sent', 'sentence', 'sep', 'separate', 'separated', 'separation', 'separator', 'september', 'seq', 'seqs', 'sequence', 'sequences', 'serena', 'serialize', 'series', 'server', 'serversocket', 'session', 'set', 'set1', 'set2', 'seta', 'setb', 'setcolor', 'setconsolecursorposition', 'setdefaultcloseoperation', 'setgray', 'setint64', 'setlocationrelativeto', 'setof', 'setpencolor', 'setpixel', 'setr', 'sets', 'setstring', 'settext', 'setting', 'settitle', 'setup', 'setvalue', 'setvisible', 'setw', 'setweight', 'seven', 'seventh', 'sexp', 'sf', 'sgn', 'sh', 'sha', 'sha1', 'sha256', 'shades', 'shape', 'shared', 'shared_ptr', 'she', 'shell', 'shellsort', 'shift', 'shirt', 'shl', 'shoes', 'shop', 'short', 'shorter', 'should', 'show', 'showing', 'shown', 'shows', 'shr', 'shuffle', 'shuffled', 'shuffler', 'si', 'side', 'sides', 'sierpinski', 'sieve', 'siftdown', 'sigma', 'sign', 'signal', 'signed', 'significant', 'silly', 'sim', 'similar', 'simple', 'simpledateformat', 'simpleswingapplication', 'simplify', 'simply', 'simpson', 'simulate', 'sin', 'since', 'sine', 'single', 'singleton', 'sinx', 'six', 'sixth', 'size', 'size_t', 'size_type', 'sizeof', 'sizes', 'skip', 'sl', 'slast', 'slat', 'sleep', 'sleeping', 'slen', 'slice', 'slices', 'slot', 'slowly', 'sm', 'sma', 'small', 'smaller', 'smallest', 'smith', 'smoke', 'smokes', 'smtp', 'sn', 'snd', 'so', 'soap', 'sociable', 'sock', 'socket', 'socks', 'sofar', 'sol', 'solid', 'solution', 'solutions', 'solve', 'solve24', 'solved', 'solver', 'some', 'someone', 'someparameter', 'something', 'somewhere', 'son', 'song', 'sorry', 'sort', 'sort_by', 'sortby', 'sorted', 'sorter', 'sorting', 'sorttable', 'sou', 'soul', 'sound', 'soundex', 'source', 'sourceforge', 'south', 'southeast', 'southwest', 'sp', 'space', 'spaceleft', 'spaces', 'spacing', 'spades', 'spam', 'span', 'spawn', 'speak', 'spec', 'special', 'specific', 'specified', 'specify', 'speech', 'speed', 'sphere', 'spiral', 'spirit', 'splice', 'split', 'splitat', 'spliton', 'splot', 'spock', 'sprintf', 'sq', 'sql', 'sqlite3', 'sqr', 'sqrt', 'sqrt2', 'squad', 'square', 'squared', 'squares', 'sr', 'srand', 'src', 'ss', 'sscanf', 'sstream', 'st', 'st_size', 'stable', 'stack', 'stage', 'standard', 'start', 'start_with', 'started', 'startindex', 'starting', 'startline', 'starts', 'startswith', 'starttime', 'startx', 'stash', 'stat', 'state', 'statement', 'statements', 'states', 'static', 'static_cast', 'statistics', 'stats', 'status', 'stay', 'std', 'std_cell_lib', 'stdbool', 'stderr', 'stdgen', 'stdin', 'stdin_fileno', 'stdint', 'stdio', 'stdlib', 'stdout', 'steep', 'stem', 'stems', 'step', 'step_up', 'stepper', 'steps', 'stepup', 'still', 'stock', 'stoogesort', 'stop', 'storage', 'store', 'stored', 'stores', 'str', 'str1', 'str2', 'strand', 'strategy', 'strcat', 'strchr', 'strcmp', 'strconv', 'strcpy', 'strdelim', 'strdup', 'stream', 'street', 'stref', 'strftime', 'strict', 'stride', 'string', 'string1', 'string2', 'stringbuffer', 'stringbuilder', 'stringify', 'stringio', 'stringjoin', 'stringlength', 'stringreplace', 'strings', 'stringsplit', 'strip', 'stripchars', 'strlen', 'strncmp', 'strncpy', 'stroke', 'strsplit', 'strstyle', 'strt', 'strtext', 'struct', 'structure', 'student', 'students', 'stuff', 'style', 'su', 'sub', 'subfact', 'subfactorial', 'subject', 'subjectpolygon', 'sublist', 'subroutine', 'subsequence', 'subset', 'subsets', 'substitute', 'substr', 'substring', 'subtract', 'succ', 'success', 'successfully', 'successor', 'such', 'sufficient', 'suffix', 'suit', 'sum', 'sum1', 'sum2', 'sum35', 'sumdigits', 'sumf', 'summary', 'sums', 'sun', 'sunday', 'sunglasses', 'sup', 'super', 'supplied', 'supply', 'support', 'supported', 'sure', 'surface', 'sv', 'svg', 'sw', 'swallow', 'swallowed', 'swans', 'swap', 'swapped', 'swaps', 'swede', 'swift', 'swimming', 'swing', 'swingutilities', 'switch', 'switching', 'sx', 'sy', 'sym', 'symbol', 'symbols', 'symboltable', 'symmetric', 'symtable', 'sync', 'synchronized', 'synopsys', 'syntax', 'sys', 'system', 'systems', 'sz', 't', 't0', 't1', 't2', 't3', 't_', 'ta', 'tab', 'table', 'tableform', 'tag', 'tags', 'tail', 'tailrec', 'tails', 'take', 'taken', 'takes', 'takewhile', 'tally', 'tam', 'tan', 'tand', 'taneval', 'tangent', 'tans', 'tape', 'target', 'task', 'tasks', 'tasted', 'tau', 'tax', 'tb', 'tbl', 'tbody', 'tc', 'tcp', 'td', 'tea', 'tee', 'tell', 'temp', 'template', 'temporary', 'ten', 'tens', 'tenth', 'term', 'terminal', 'terminate', 'terminating', 'terminator', 'terms', 'ternary', 'test', 'test1', 'test2', 'testcase', 'testcases', 'tested', 'testing', 'testing123testing', 'testlist', 'testpoints', 'tests', 'teststring', 'text', 'textbox', 'texts', 'tf', 'tg', 'tgt', 'th', 'than', 'that', 'the', 'thead', 'their', 'them', 'then', 'theory', 'there', 'these', 'theta', 'they', 'thing', 'things', 'think', 'thinking', 'third', 'this', 'thisisatest', 'those', 'though', 'thousand', 'thread', 'thread_rng', 'threaddelay', 'threading', 'threads', 'three', 'threshold', 'through', 'throw', 'throws', 'thu', 'thursday', 'thus', 'ti', 'tib', 'tick', 'tid', 'tie', 'tile', 'tim', 'time', 'time_t', 'timeout', 'timer', 'times', 'timezone', 'tin', 'tiny', 'title', 'tk', 'tl', 'tm', 'tmp', 'tmp1', 'tmp2', 'tn', 'to', 'to_a', 'to_f', 'to_i', 'to_owned', 'to_roman', 'to_s', 'to_string', 'toarray', 'tobase', 'tobinarystring', 'tobyte', 'tochar', 'tocharactercode', 'tochararray', 'tock', 'today', 'todo', 'todouble', 'toenum', 'together', 'toggle', 'toint', 'tok', 'token', 'tokenizer', 'tokens', 'tol', 'tolerance', 'tolist', 'tolong', 'tolower', 'tolowercase', 'tomap', 'too', 'took', 'top', 'topswops', 'toradians', 'toroman', 'toset', 'tostring', 'tot', 'total', 'toupper', 'touppercase', 'tour', 'towel', 'towers', 'tp', 'tpl', 'tput', 'tr', 'trace', 'track', 'trail', 'trailing', 'trait', 'trans', 'transfer', 'transform', 'transition', 'transitions', 'translate', 'transport', 'transpose', 'trapezium', 'traverse', 'treat', 'tree', 'trees', 'tri', 'trial', 'trials', 'triangle', 'triangles', 'trie', 'tries', 'trim', 'trinity', 'triple', 'triples', 'trit', 'trouble', 'trousers', 'true', 'truefalse', 'truncatable', 'truncate', 'truths', 'try', 'trying', 'ts', 'tsort', 'tt', 'ttl', 'tu', 'tuple', 'tuples', 'turn', 'turns', 'turtle', 'tutor', 'tv', 'twelfth', 'twelve', 'twenty', 'two', 'tx', 'txt', 'tycho', 'type', 'typealias', 'typed', 'typedef', 'typeerror', 'typename', 'typeof', 'types', 'u', 'u0', 'u1', 'u16', 'u32', 'u64', 'u8', 'ua', 'ub', 'ubound', 'ui', 'uid', 'uint', 'uint16', 'uint32', 'uint32_t', 'uint64', 'uint8', 'uint8_t', 'uintptr', 'uk', 'ulam', 'ulong', 'umbrella', 'unary', 'unbiased', 'unchanged', 'uncomment', 'uncompressed', 'uncurry', 'undef', 'undefined', 'under', 'undo', 'unexpected', 'unfoldr', 'unicode', 'uniform', 'union', 'uniq', 'unique', 'unistd', 'unit', 'units', 'universe', 'unix', 'unixdict', 'unixnano', 'unknown', 'unless', 'unlines', 'unlink', 'unlist', 'unlock', 'unpack', 'unrooted', 'unsafe', 'unset', 'unsigned', 'unsorted', 'unstable', 'until', 'unwords', 'unwrap', 'unwrap_or_else', 'up', 'upc', 'upcase', 'update', 'upper', 'uppercase', 'upto', 'uri', 'url', 'urllib', 'urlopen', 'us', 'usage', 'use', 'used', 'useful', 'user', 'user1', 'username', 'users', 'uses', 'ushr', 'using', 'usize', 'usleep', 'usno', 'usr', 'ustring', 'utc', 'utf', 'utf8', 'util', 'utility', 'utm', 'v', 'v0', 'v1', 'v11', 'v12', 'v14', 'v2', 'v21', 'va', 'va_arg', 'vadd', 'val', 'val_', 'valid', 'validate', 'vals', 'value', 'value_type', 'valueerror', 'valueof', 'values', 'vampire', 'var', 'var_dump', 'var_export', 'varargin', 'variable', 'variables', 'various', 'varname', 'vars', 'vb', 'vbox', 'vc', 'vdc', 've', 'vec', 'vector', 'vector2', 'vectors', 'ver', 'verbose', 'vernam', 'verse', 'version', 'vertex', 'vertical', 'vertices', 'very', 'vg', 'vi', 'via', 'vigenere', 'virginia', 'virtual', 'vis', 'visible', 'visit', 'visited', 'visual', 'vk', 'vl', 'void', 'volatile', 'volume', 'voronoi', 'vs', 'vsub', 'vv', 'vwall', 'vx', 'vy', 'w', 'w1', 'w12', 'w13', 'w14', 'w2', 'w22', 'w3', 'w3c', 'wait', 'waitgroup', 'waiting', 'walk', 'wall', 'wally', 'want', 'warn', 'warning', 'warnings', 'was', 'washington', 'water', 'waterproof', 'wav', 'waw', 'way', 'ways', 'wb', 'wc', 'wcex', 'wchar_t', 'wday', 'we', 'weasel', 'week', 'weekday', 'weekends', 'weight', 'weights', 'welcome', 'well', 'went', 'were', 'wes', 'west', 'whack', 'what', 'whatever', 'wheel', 'when', 'where', 'whether', 'which', 'while', 'white', 'whitespace', 'who', 'whole', 'whose', 'why', 'wid', 'widget', 'width', 'wiki', 'wikipedia', 'wikitable', 'will', 'win', 'window', 'windows', 'winner', 'winners', 'winning', 'wins', 'with', 'with_index', 'within', 'withindex', 'without', 'wk', 'wnd', 'woman', 'won', 'word', 'word32', 'word8', 'wordlist', 'wordlists', 'words', 'work', 'worker', 'workers', 'working', 'works', 'world', 'worth', 'wot', 'would', 'wp', 'wparam', 'wrap', 'wrapped', 'wrapping', 'write', 'writearray', 'writebyte', 'writefile', 'writer', 'writes', 'writestring', 'writing', 'written', 'wrong', 'ws', 'wscript', 'wt', 'ww', 'www', 'wx', 'x', 'x0', 'x1', 'x11', 'x2', 'x3', 'x4', 'x5', 'x_', 'xa', 'xb', 'xc', 'xend', 'xgap', 'xi', 'xint', 'xk', 'xl', 'xm', 'xmax', 'xmin', 'xml', 'xo', 'xor', 'xp', 'xprecision', 'xpxl1', 'xpxl2', 'xr', 'xrange', 'xs', 'xsize', 'xss', 'xstr', 'xt', 'xv', 'xval', 'xx', 'xxs', 'xxx', 'xxxxx', 'xy', 'xyz', 'y', 'y0', 'y1', 'y2', 'y3', 'y_', 'ya', 'yahoosearch', 'yc', 'year', 'years', 'yellow', 'yend', 'yes', 'yet', 'yi', 'yield', 'yields', 'ym', 'ymax', 'ymin', 'yold', 'york', 'you', 'your', 'yp', 'yprecision', 'ypxl1', 'ypxl2', 'yr', 'ys', 'ysize', 'ystr', 'yy', 'yyyy', 'yz', 'z', 'z1', 'z2', 'za', 'zag', 'zap', 'zayin', 'zd', 'zebra', 'zeckendorf', 'zero', 'zeroes', 'zeromemory', 'zeros', 'zeta', 'zhangsuen', 'zi', 'zig', 'zigzag', 'zip', 'zipwith', 'zipwithindex', 'zm', 'zoom', 'zot', 'zs', 'zz', '{', '|', '|&', '|=', '|\\\\', '|_', '||', '||=', '}', '~', '~=', '~~']\n"
     ]
    },
    {
     "name": "stderr",
     "output_type": "stream",
     "text": [
      "c:\\python39\\lib\\site-packages\\sklearn\\utils\\deprecation.py:87: FutureWarning: Function get_feature_names is deprecated; get_feature_names is deprecated in 1.0 and will be removed in 1.2. Please use get_feature_names_out instead.\n",
      "  warnings.warn(msg, category=FutureWarning)\n"
     ]
    }
   ],
   "source": [
    "\n",
    "# Create a regex string to identify all tokens\n",
    "pattern_breakdown = r\"\"\"(\\b[A-Za-z_]\\w*\\b|[!\\#\\$%\\&\\*\\+:\\-\\./<=>\\?@\\\\\\^_\\|\\~]+|[ \\t\\(\\),;\\{\\}\\[\\]`\"'])\"\"\"\n",
    "\n",
    "# Create a TF-IDF vectorizer\n",
    "vectorize_data = TfidfVectorizer(token_pattern = pattern_breakdown, max_features=5000 , min_df=3)\n",
    "\n",
    "# Fit vectorizer on training data\n",
    "vectorize_data.fit(X_train)\n",
    "\n",
    "# generate tokens from training data\n",
    "tokens = vectorize_data.get_feature_names()\n",
    "\n",
    "print(tokens)"
   ]
  },
  {
   "cell_type": "markdown",
   "id": "7ad993f5",
   "metadata": {},
   "source": [
    "### Stop words removal\n",
    "The ideal stop words in this insatnce would be the variable names and string literals in all programming languages. As they don't contribute in making distinction within the languagesmost of the time. But its also difficult to filter out such words for each language, therefore we try to take an easier path and simply remove all single alphabet characters and repetitive single characters. Examples: x, aa, bbbb etc."
   ]
  },
  {
   "cell_type": "code",
   "execution_count": 9,
   "id": "f46e3197",
   "metadata": {},
   "outputs": [],
   "source": [
    "# Create a funtion to remove stopwords.\n",
    "def remove_stopwords(x):\n",
    "    return pd.Series(x).replace(r'\\b([A-Za-z])\\1+\\b', '', regex=True).replace(r'\\b[A-Za-z]\\b', '', regex=True)\n",
    "\n",
    "# create an instance of the FunctionTransformer using the remove_stopwords as parameter.\n",
    "transform_data = FunctionTransformer(remove_stopwords)"
   ]
  },
  {
   "cell_type": "markdown",
   "id": "63e573e2",
   "metadata": {},
   "source": [
    "## Model fitting \n",
    "\n",
    "Lets try few different models. Each model will follow the same pattern for building i.e. at first hyperparameters would be fine-tuned using GridSearchCV and then evaluation would be done. This would give a better idea about which algorithm works best for this use-case.\n",
    "\n",
    "*Note -* As GridSearchCV is an computationally extensive algorithm, therefore only a limited number of parameters were used for fine-tuning. Using a large set of parameters for each algorithms might give different results than presented here."
   ]
  },
  {
   "cell_type": "markdown",
   "id": "f433a519",
   "metadata": {},
   "source": [
    "### 1. Random Forest Classifier"
   ]
  },
  {
   "cell_type": "code",
   "execution_count": 10,
   "id": "4111fc4d",
   "metadata": {},
   "outputs": [
    {
     "name": "stdout",
     "output_type": "stream",
     "text": [
      "Fitting 3 folds for each of 16 candidates, totalling 48 fits\n",
      "Accuracy: 0.9619543452142572\n",
      "Mean Fscore : 0.9595005281115313\n",
      "The best set of parameters for Random forest is : \n",
      "{'clf__criterion': 'gini', 'clf__max_features': 'sqrt', 'clf__min_samples_split': 2, 'clf__n_estimators': 300}\n"
     ]
    }
   ],
   "source": [
    "\n",
    "# Initialize the classifier\n",
    "clf = RandomForestClassifier(n_jobs=-1)\n",
    "\n",
    "# Build a pipeline to preprocess data, vectorize data and ultimately train the model\n",
    "model_pipe_rf = Pipeline([\n",
    "    ('preprocessing', transform_data),\n",
    "    ('vectorizer', vectorize_data),\n",
    "    ('clf', clf)]\n",
    ")\n",
    "\n",
    "\n",
    "# create a dictionary of parameters to perform the grid search on\n",
    "param_grid_rf = {\n",
    "    'clf__criterion': ['gini', 'entropy'],\n",
    "    'clf__max_features': ['sqrt','log2'],\n",
    "    'clf__min_samples_split': [2,3],\n",
    "    'clf__n_estimators': [200,300]\n",
    "}\n",
    "\n",
    "# Initialize GridSearchCV with all the parameters\n",
    "grid_search_rf = GridSearchCV(model_pipe_rf, param_grid = param_grid_rf, cv=3, n_jobs =-1, verbose=3)\n",
    "\n",
    "# Start the training\n",
    "grid_search_rf.fit(X_train, y_train)\n",
    "\n",
    "# Evaluate the best performing model\n",
    "print('Accuracy: '+ str(grid_search_rf.score(X_test, y_test)))\n",
    "\n",
    "# Evaluate the Precision, Recall and Fscore\n",
    "predicted = grid_search_rf.predict(X_test)\n",
    "\n",
    "precision, recall, fscore, support = metrics_data(y_test, predicted)\n",
    "\n",
    "print(\"Mean Fscore : \" + str(np.mean(fscore)))\n",
    "\n",
    "# Best set of parameters\n",
    "print(\"The best set of parameters for Random forest is : \")\n",
    "print(grid_search_rf.best_params_)\n",
    "\n"
   ]
  },
  {
   "cell_type": "markdown",
   "id": "5455f0a9",
   "metadata": {},
   "source": [
    "### 2. Logistic Regression"
   ]
  },
  {
   "cell_type": "code",
   "execution_count": 11,
   "id": "af462cf5",
   "metadata": {},
   "outputs": [
    {
     "name": "stdout",
     "output_type": "stream",
     "text": [
      "Fitting 3 folds for each of 8 candidates, totalling 24 fits\n",
      "Accuracy: 0.9459351221465759\n",
      "Mean Fscore : 0.9423444949235533\n",
      "The best set of parameters for Logistic regression is : \n",
      "{'clf__C': 10, 'clf__solver': 'lbfgs'}\n"
     ]
    }
   ],
   "source": [
    "# Initialize the classifier\n",
    "clf_lr = LogisticRegression(max_iter = 500)\n",
    "\n",
    "# Build a pipeline to preprocess data, vectorize data and ultimately train the model\n",
    "model_pipe_lr = Pipeline([\n",
    "    ('preprocessing', transform_data),\n",
    "    ('vectorizer', vectorize_data),\n",
    "    ('clf', clf_lr)]\n",
    ")\n",
    "\n",
    "\n",
    "# create a dictionary of parameters to perform the grid search on\n",
    "param_grid_lr = {\n",
    "    'clf__C':[0.01, 0.1, 1, 10],\n",
    "    'clf__solver':['lbfgs','saga']\n",
    "    }\n",
    "\n",
    "# Initialize GridSearchCV with all the parameters\n",
    "grid_search_lr = GridSearchCV(model_pipe_lr, param_grid = param_grid_lr, cv=3, n_jobs =-1, verbose=3)\n",
    "\n",
    "# Start the training\n",
    "grid_search_lr.fit(X_train, y_train)\n",
    "\n",
    "# Evaluate the best performing model\n",
    "print('Accuracy: '+ str(grid_search_lr.score(X_test, y_test)))\n",
    "\n",
    "# Evaluate the Precision, Recall and Fscore\n",
    "predicted = grid_search_lr.predict(X_test)\n",
    "\n",
    "precision, recall, fscore, support = metrics_data(y_test, predicted)\n",
    "\n",
    "print(\"Mean Fscore : \" + str(np.mean(fscore)))\n",
    "\n",
    "# Best set of parameters\n",
    "print(\"The best set of parameters for Logistic regression is : \")\n",
    "print(grid_search_lr.best_params_)"
   ]
  },
  {
   "cell_type": "markdown",
   "id": "ee4799a2",
   "metadata": {},
   "source": [
    "### 3. Support Vector Machine"
   ]
  },
  {
   "cell_type": "code",
   "execution_count": 12,
   "id": "6bab8e6e",
   "metadata": {},
   "outputs": [
    {
     "name": "stdout",
     "output_type": "stream",
     "text": [
      "Fitting 3 folds for each of 8 candidates, totalling 24 fits\n",
      "Accuracy: 0.9375250300360433\n",
      "Mean Fscore : 0.9333235716109535\n",
      "The best set of parameters for SVM is : \n",
      "{'clf__C': 10, 'clf__kernel': 'linear'}\n"
     ]
    }
   ],
   "source": [
    "# Initialize the classifier\n",
    "clf_svm = SVC()\n",
    "\n",
    "# Build a pipeline to preprocess data, vectorize data and ultimately train the model\n",
    "model_pipe_svm = Pipeline([\n",
    "    ('preprocessing', transform_data),\n",
    "    ('vectorizer', vectorize_data),\n",
    "    ('clf', clf_svm)]\n",
    ")\n",
    "\n",
    "\n",
    "# create a dictionary of parameters to perform the grid search on\n",
    "param_grid_svm = {\n",
    "    'clf__kernel': ['linear','poly'],\n",
    "    'clf__C':[0.1, 1, 10,100]\n",
    "    \n",
    "    }\n",
    "\n",
    "# Initialize GridSearchCV with all the parameters\n",
    "grid_search_svm = GridSearchCV(model_pipe_svm, param_grid = param_grid_svm, cv=3, n_jobs =-1, verbose=3)\n",
    "\n",
    "# Start the training\n",
    "grid_search_svm.fit(X_train, y_train)\n",
    "\n",
    "# Evaluate the best performing model\n",
    "print('Accuracy: '+ str(grid_search_svm.score(X_test, y_test)))\n",
    "\n",
    "# Evaluate the Precision, Recall and Fscore\n",
    "predicted = grid_search_svm.predict(X_test)\n",
    "\n",
    "precision, recall, fscore, support = metrics_data(y_test, predicted)\n",
    "\n",
    "print(\"Mean Fscore : \" + str(np.mean(fscore)))\n",
    "\n",
    "# Best set of parameters\n",
    "print(\"The best set of parameters for SVM is : \")\n",
    "print(grid_search_svm.best_params_)"
   ]
  },
  {
   "cell_type": "markdown",
   "id": "0c128048",
   "metadata": {},
   "source": [
    "### Result Analysis\n",
    "The above results of each models shows that the *Random Forest Classifier* has the highest accuracy as well as the mean fscore among all three algorithms. Therefore, it can concluded that it is the best performing model in this instance with an accuracy of *96.19%* on test data."
   ]
  },
  {
   "cell_type": "markdown",
   "id": "679d9a47",
   "metadata": {},
   "source": [
    "## Fun time!\n",
    "Lets makes some predictions with the RF model and test its real world robustness."
   ]
  },
  {
   "cell_type": "code",
   "execution_count": 25,
   "id": "632c5401",
   "metadata": {},
   "outputs": [
    {
     "name": "stdout",
     "output_type": "stream",
     "text": [
      " \n",
      "Snippet below -\n",
      "import pandas as pd\n",
      "Predicted language : Python\n",
      "*********************************\n",
      " \n",
      "Snippet below -\n",
      "include <iostream>  \n",
      "int main() \n",
      "Predicted language : C++\n",
      "*********************************\n",
      " \n",
      "Snippet below -\n",
      "var = 5\n",
      "Predicted language : Swift\n",
      "*********************************\n",
      " \n",
      "Snippet below -\n",
      " \n",
      "<head>\n",
      "  <title>Title of the document</title>\n",
      "</head>\n",
      "\n",
      "Predicted language : Haskell\n",
      "*********************************\n",
      " \n",
      "Snippet below -\n",
      "abcdfg\n",
      "Predicted language : Mathematica\n",
      "*********************************\n"
     ]
    }
   ],
   "source": [
    "random_snippets = [\n",
    "\"import pandas as pd\", \n",
    "    \n",
    "\"include <iostream>  \\nint main() \",\n",
    "    \n",
    "\"var = 5\", \n",
    "    \n",
    "\"\"\" \n",
    "<head>\n",
    "  <title>Title of the document</title>\n",
    "</head>\n",
    "\"\"\",\n",
    "\n",
    "\"abcdfg\"]\n",
    "\n",
    "for itm in random_snippets:\n",
    "    print(\" \")\n",
    "    print(\"Snippet below -\")\n",
    "    print(itm)\n",
    "    print(\"Predicted language : \" + str(grid_search_rf.predict(itm)[0]))\n",
    "    print(\"*********************************\")\n"
   ]
  },
  {
   "cell_type": "markdown",
   "id": "2cb95258",
   "metadata": {},
   "source": [
    "The above result shows that the model performs quite humanly. It predicts correctly for the Python and C++ instance. Third instance could be confusing to any master programmer to predict as the given code could belong to multiple languages but, the models prediction of Swift is justified since var is a keyword in the language. Fourth test case is HTML but since it wasn't part of the trained classes of languages the model predicts it to be Haskell which might be due to Haskell training samples having any HTML code embedded into it. The last piece is simply some gibberish."
   ]
  },
  {
   "cell_type": "code",
   "execution_count": null,
   "id": "f7948ef5",
   "metadata": {},
   "outputs": [],
   "source": [
    "clfs = [RandomForestClassifier(n_jobs=-1), LogisticRegression(max_iter = 500) ,SVC()]\n",
    "\n",
    "\n"
   ]
  }
 ],
 "metadata": {
  "kernelspec": {
   "display_name": "Python 3",
   "language": "python",
   "name": "python3"
  },
  "language_info": {
   "codemirror_mode": {
    "name": "ipython",
    "version": 3
   },
   "file_extension": ".py",
   "mimetype": "text/x-python",
   "name": "python",
   "nbconvert_exporter": "python",
   "pygments_lexer": "ipython3",
   "version": "3.9.0"
  }
 },
 "nbformat": 4,
 "nbformat_minor": 5
}
